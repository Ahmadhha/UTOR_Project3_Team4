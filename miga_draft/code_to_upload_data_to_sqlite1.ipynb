{
 "cells": [
  {
   "cell_type": "code",
   "execution_count": 1,
   "id": "c6a55432",
   "metadata": {},
   "outputs": [],
   "source": [
    "from pathlib import Path\n",
<<<<<<< HEAD
    "Path(\"/Users/miga/Desktop/empty/UTOR_Project3_Team4/diet_disease.sqlite\").touch()"
=======
    "Path(\"diet_disease_db.sqlite\").touch()"
>>>>>>> 9d45dd43db4406800a7f084195d24c2210b204a3
   ]
  },
  {
   "cell_type": "code",
   "execution_count": 2,
   "id": "f296eaad",
   "metadata": {},
   "outputs": [
    {
     "name": "stdout",
     "output_type": "stream",
     "text": [
      "Opened database successfully\n"
     ]
    }
   ],
   "source": [
    "#!/usr/bin/python\n",
    "\n",
    "import sqlite3\n",
    "\n",
<<<<<<< HEAD
    "conn = sqlite3.connect(\"/Users/miga/Desktop/empty/UTOR_Project3_Team4/diet_disease.sqlite\")\n",
=======
    "conn = sqlite3.connect('diet_disease_db.sqlite')\n",
>>>>>>> 9d45dd43db4406800a7f084195d24c2210b204a3
    "\n",
    "print(\"Opened database successfully\")\n",
    "\n",
    "c = conn.cursor()"
   ]
  },
  {
   "cell_type": "code",
   "execution_count": 3,
   "id": "35b30b33",
   "metadata": {},
   "outputs": [
    {
<<<<<<< HEAD
     "data": {
      "text/plain": [
       "<sqlite3.Cursor at 0x7f988b4a8d50>"
      ]
     },
     "execution_count": 3,
     "metadata": {},
     "output_type": "execute_result"
=======
     "ename": "OperationalError",
     "evalue": "table calorie_info already exists",
     "output_type": "error",
     "traceback": [
      "\u001b[1;31m---------------------------------------------------------------------------\u001b[0m",
      "\u001b[1;31mOperationalError\u001b[0m                          Traceback (most recent call last)",
      "Input \u001b[1;32mIn [3]\u001b[0m, in \u001b[0;36m<cell line: 1>\u001b[1;34m()\u001b[0m\n\u001b[1;32m----> 1\u001b[0m \u001b[43mc\u001b[49m\u001b[38;5;241;43m.\u001b[39;49m\u001b[43mexecute\u001b[49m\u001b[43m(\u001b[49m\u001b[43m \u001b[49m\u001b[38;5;124;43m'''\u001b[39;49m\u001b[38;5;124;43mCREATE TABLE calorie_info \u001b[39;49m\n\u001b[0;32m      2\u001b[0m \u001b[38;5;124;43m              (Entity text, \u001b[39;49m\n\u001b[0;32m      3\u001b[0m \u001b[38;5;124;43m               Code text, \u001b[39;49m\n\u001b[0;32m      4\u001b[0m \u001b[38;5;124;43m               Year int, \u001b[39;49m\n\u001b[0;32m      5\u001b[0m \u001b[38;5;124;43m               Animal_protein double precision, \u001b[39;49m\n\u001b[0;32m      6\u001b[0m \u001b[38;5;124;43m               Plant_protein double precision, \u001b[39;49m\n\u001b[0;32m      7\u001b[0m \u001b[38;5;124;43m               Fat double precision, \u001b[39;49m\n\u001b[0;32m      8\u001b[0m \u001b[38;5;124;43m               Carbohydrate double precision, \u001b[39;49m\n\u001b[0;32m      9\u001b[0m \u001b[38;5;124;43m               PRIMARY KEY (Entity, Year)) \u001b[39;49m\u001b[38;5;124;43m'''\u001b[39;49m\u001b[43m \u001b[49m\u001b[43m)\u001b[49m\n",
      "\u001b[1;31mOperationalError\u001b[0m: table calorie_info already exists"
     ]
>>>>>>> 9d45dd43db4406800a7f084195d24c2210b204a3
    }
   ],
   "source": [
    "c.execute( '''CREATE TABLE calorie_info \n",
    "              (Entity text, \n",
    "               Code text, \n",
    "               Year int, \n",
    "               Animal_protein double precision, \n",
    "               Plant_protein double precision, \n",
    "               Fat double precision, \n",
    "               Carbohydrate double precision, \n",
    "               PRIMARY KEY (Entity, Year)) ''' )\n",
    "\n"
   ]
  },
  {
   "cell_type": "code",
<<<<<<< HEAD
   "execution_count": 4,
   "id": "23ce9335",
   "metadata": {},
   "outputs": [
    {
     "data": {
      "text/plain": [
       "Index(['Entity', 'Code', 'Year', 'Calories from animal protein (FAO (2017))',\n",
       "       'Calories from plant protein (FAO (2017))',\n",
       "       'Calories from fat (FAO (2017))',\n",
       "       'Calories from carbohydrates (FAO (2017))'],\n",
       "      dtype='object')"
      ]
     },
     "execution_count": 4,
     "metadata": {},
     "output_type": "execute_result"
    }
   ],
=======
   "execution_count": null,
   "id": "23ce9335",
   "metadata": {},
   "outputs": [],
>>>>>>> 9d45dd43db4406800a7f084195d24c2210b204a3
   "source": [
    "import pandas as pd\n",
    "\n",
    "table1 = pd.read_csv(\"/Users/miga/Desktop/empty/UTOR_Project3_Team4/Resources/diet_data/calorie_info.csv\")\n",
    "\n",
    "table1.columns"
   ]
  },
  {
   "cell_type": "code",
<<<<<<< HEAD
   "execution_count": 5,
   "id": "d27d21f5",
   "metadata": {},
   "outputs": [
    {
     "data": {
      "text/html": [
       "<div>\n",
       "<style scoped>\n",
       "    .dataframe tbody tr th:only-of-type {\n",
       "        vertical-align: middle;\n",
       "    }\n",
       "\n",
       "    .dataframe tbody tr th {\n",
       "        vertical-align: top;\n",
       "    }\n",
       "\n",
       "    .dataframe thead th {\n",
       "        text-align: right;\n",
       "    }\n",
       "</style>\n",
       "<table border=\"1\" class=\"dataframe\">\n",
       "  <thead>\n",
       "    <tr style=\"text-align: right;\">\n",
       "      <th></th>\n",
       "      <th>Entity</th>\n",
       "      <th>Code</th>\n",
       "      <th>Year</th>\n",
       "      <th>Animal_protein</th>\n",
       "      <th>Plant_protein</th>\n",
       "      <th>Fat</th>\n",
       "      <th>Carbohydrate</th>\n",
       "    </tr>\n",
       "  </thead>\n",
       "  <tbody>\n",
       "    <tr>\n",
       "      <th>0</th>\n",
       "      <td>Afghanistan</td>\n",
       "      <td>AFG</td>\n",
       "      <td>1961</td>\n",
       "      <td>54.12</td>\n",
       "      <td>285.52</td>\n",
       "      <td>337.59</td>\n",
       "      <td>2321.77</td>\n",
       "    </tr>\n",
       "    <tr>\n",
       "      <th>1</th>\n",
       "      <td>Afghanistan</td>\n",
       "      <td>AFG</td>\n",
       "      <td>1962</td>\n",
       "      <td>53.92</td>\n",
       "      <td>278.00</td>\n",
       "      <td>338.49</td>\n",
       "      <td>2246.59</td>\n",
       "    </tr>\n",
       "    <tr>\n",
       "      <th>2</th>\n",
       "      <td>Afghanistan</td>\n",
       "      <td>AFG</td>\n",
       "      <td>1963</td>\n",
       "      <td>56.80</td>\n",
       "      <td>251.68</td>\n",
       "      <td>347.13</td>\n",
       "      <td>2042.39</td>\n",
       "    </tr>\n",
       "    <tr>\n",
       "      <th>3</th>\n",
       "      <td>Afghanistan</td>\n",
       "      <td>AFG</td>\n",
       "      <td>1964</td>\n",
       "      <td>57.32</td>\n",
       "      <td>276.64</td>\n",
       "      <td>350.55</td>\n",
       "      <td>2268.49</td>\n",
       "    </tr>\n",
       "    <tr>\n",
       "      <th>4</th>\n",
       "      <td>Afghanistan</td>\n",
       "      <td>AFG</td>\n",
       "      <td>1965</td>\n",
       "      <td>59.76</td>\n",
       "      <td>275.68</td>\n",
       "      <td>357.57</td>\n",
       "      <td>2262.99</td>\n",
       "    </tr>\n",
       "  </tbody>\n",
       "</table>\n",
       "</div>"
      ],
      "text/plain": [
       "        Entity Code  Year  Animal_protein  Plant_protein     Fat  Carbohydrate\n",
       "0  Afghanistan  AFG  1961           54.12         285.52  337.59       2321.77\n",
       "1  Afghanistan  AFG  1962           53.92         278.00  338.49       2246.59\n",
       "2  Afghanistan  AFG  1963           56.80         251.68  347.13       2042.39\n",
       "3  Afghanistan  AFG  1964           57.32         276.64  350.55       2268.49\n",
       "4  Afghanistan  AFG  1965           59.76         275.68  357.57       2262.99"
      ]
     },
     "execution_count": 5,
     "metadata": {},
     "output_type": "execute_result"
    }
   ],
=======
   "execution_count": null,
   "id": "d27d21f5",
   "metadata": {},
   "outputs": [],
>>>>>>> 9d45dd43db4406800a7f084195d24c2210b204a3
   "source": [
    "table1.rename( columns={'Calories from animal protein (FAO (2017))': 'Animal_protein',\n",
    "       'Calories from plant protein (FAO (2017))': 'Plant_protein',\n",
    "       'Calories from fat (FAO (2017))': 'Fat',\n",
    "       'Calories from carbohydrates (FAO (2017))': 'Carbohydrate'}, inplace=True )\n",
    "table1.head()\n"
   ]
  },
  {
   "cell_type": "code",
<<<<<<< HEAD
   "execution_count": 6,
   "id": "a9f2759a",
   "metadata": {},
   "outputs": [
    {
     "data": {
      "text/plain": [
       "8981"
      ]
     },
     "execution_count": 6,
     "metadata": {},
     "output_type": "execute_result"
    }
   ],
=======
   "execution_count": null,
   "id": "a9f2759a",
   "metadata": {},
   "outputs": [],
>>>>>>> 9d45dd43db4406800a7f084195d24c2210b204a3
   "source": [
    "table1.to_sql('calorie_info', conn, if_exists='append', index=False)\n"
   ]
  },
  {
   "cell_type": "code",
<<<<<<< HEAD
   "execution_count": 7,
   "id": "1914d8e8",
   "metadata": {},
   "outputs": [
    {
     "data": {
      "text/plain": [
       "[('Afghanistan', 'AFG', 1961, 54.12, 285.52, 337.59, 2321.77),\n",
       " ('Afghanistan', 'AFG', 1962, 53.92, 278.0, 338.49, 2246.59),\n",
       " ('Afghanistan', 'AFG', 1963, 56.8, 251.68, 347.13, 2042.39),\n",
       " ('Afghanistan', 'AFG', 1964, 57.32, 276.64, 350.55, 2268.49),\n",
       " ('Afghanistan', 'AFG', 1965, 59.76, 275.68, 357.57, 2262.99),\n",
       " ('Afghanistan', 'AFG', 1966, 64.44, 252.24, 359.55, 2060.77),\n",
       " ('Afghanistan', 'AFG', 1967, 67.08, 273.92, 376.65, 2253.35),\n",
       " ('Afghanistan', 'AFG', 1968, 69.88, 266.52, 377.91, 2203.69),\n",
       " ('Afghanistan', 'AFG', 1969, 68.76, 270.6, 373.5, 2222.14),\n",
       " ('Afghanistan', 'AFG', 1970, 61.16, 230.12, 341.28, 1901.44)]"
      ]
     },
     "execution_count": 7,
     "metadata": {},
     "output_type": "execute_result"
    }
   ],
=======
   "execution_count": null,
   "id": "1914d8e8",
   "metadata": {},
   "outputs": [],
>>>>>>> 9d45dd43db4406800a7f084195d24c2210b204a3
   "source": [
    "c.execute('''SELECT * FROM calorie_info LIMIT 10''').fetchall()\n",
    "\n"
   ]
  },
  {
   "cell_type": "code",
<<<<<<< HEAD
   "execution_count": 8,
   "id": "f54aac48",
   "metadata": {},
   "outputs": [
    {
     "data": {
      "text/plain": [
       "<sqlite3.Cursor at 0x7f988b4a8d50>"
      ]
     },
     "execution_count": 8,
     "metadata": {},
     "output_type": "execute_result"
    }
   ],
=======
   "execution_count": null,
   "id": "f54aac48",
   "metadata": {},
   "outputs": [],
>>>>>>> 9d45dd43db4406800a7f084195d24c2210b204a3
   "source": [
    "c.execute( '''CREATE TABLE dietary_composition \n",
    "           (Entity text,\n",
    "            Code text,\n",
    "            Year int, \n",
    "            Other int, \n",
    "            Alcohol_beverages int, \n",
    "            Sugar int, \n",
    "            Oils_fats int,\n",
    "            Meat int,\n",
    "            Dairy_eggs int,\n",
    "            Fruit_vegetables int,\n",
    "            Starchy_roots int,\n",
    "            Pulses int,\n",
    "            Cereals_grains  int,\n",
    "            PRIMARY KEY (Entity, Year)) ''' )\n",
    "\n"
   ]
  },
  {
   "cell_type": "code",
<<<<<<< HEAD
   "execution_count": 9,
   "id": "734bc1f5",
   "metadata": {},
   "outputs": [
    {
     "data": {
      "text/plain": [
       "Index(['Entity', 'Code', 'Year',\n",
       "       'Other (FAO (2017)) (kilocalories per person per day)',\n",
       "       'Alcoholic Beverages (FAO (2017)) (kilocalories per person per day)',\n",
       "       'Sugar (FAO (2017)) (kilocalories per person per day)',\n",
       "       'Oils & Fats (FAO (2017)) (kilocalories per person per day)',\n",
       "       'Meat (FAO (2017)) (kilocalories per person per day)',\n",
       "       'Dairy & Eggs (FAO (2017)) (kilocalories per person per day)',\n",
       "       'Fruit and Vegetables (FAO (2017)) (kilocalories per person per day)',\n",
       "       'Starchy Roots (FAO (2017)) (kilocalories per person per day)',\n",
       "       'Pulses (FAO (2017)) (kilocalories per person per day)',\n",
       "       'Cereals and Grains (FAO (2017)) (kilocalories per person per day)'],\n",
       "      dtype='object')"
      ]
     },
     "execution_count": 9,
     "metadata": {},
     "output_type": "execute_result"
    }
   ],
=======
   "execution_count": null,
   "id": "734bc1f5",
   "metadata": {},
   "outputs": [],
>>>>>>> 9d45dd43db4406800a7f084195d24c2210b204a3
   "source": [
    "table2 = pd.read_csv(\"/Users/miga/Desktop/empty/UTOR_Project3_Team4/Resources/diet_data/dietary_composition_info.csv\")\n",
    "\n",
    "table2.columns"
   ]
  },
  {
   "cell_type": "code",
<<<<<<< HEAD
   "execution_count": 10,
   "id": "9501a922",
   "metadata": {},
   "outputs": [
    {
     "data": {
      "text/html": [
       "<div>\n",
       "<style scoped>\n",
       "    .dataframe tbody tr th:only-of-type {\n",
       "        vertical-align: middle;\n",
       "    }\n",
       "\n",
       "    .dataframe tbody tr th {\n",
       "        vertical-align: top;\n",
       "    }\n",
       "\n",
       "    .dataframe thead th {\n",
       "        text-align: right;\n",
       "    }\n",
       "</style>\n",
       "<table border=\"1\" class=\"dataframe\">\n",
       "  <thead>\n",
       "    <tr style=\"text-align: right;\">\n",
       "      <th></th>\n",
       "      <th>Entity</th>\n",
       "      <th>Code</th>\n",
       "      <th>Year</th>\n",
       "      <th>Other</th>\n",
       "      <th>Alcohol_beverages</th>\n",
       "      <th>Sugar</th>\n",
       "      <th>Oils_fats</th>\n",
       "      <th>Meat</th>\n",
       "      <th>Dairy_eggs</th>\n",
       "      <th>Fruit_vegetables</th>\n",
       "      <th>Starchy_roots</th>\n",
       "      <th>Pulses</th>\n",
       "      <th>Cereals_grains</th>\n",
       "    </tr>\n",
       "  </thead>\n",
       "  <tbody>\n",
       "    <tr>\n",
       "      <th>0</th>\n",
       "      <td>Afghanistan</td>\n",
       "      <td>AFG</td>\n",
       "      <td>1961</td>\n",
       "      <td>13</td>\n",
       "      <td>0.0</td>\n",
       "      <td>51</td>\n",
       "      <td>92</td>\n",
       "      <td>88</td>\n",
       "      <td>102</td>\n",
       "      <td>82</td>\n",
       "      <td>25</td>\n",
       "      <td>16</td>\n",
       "      <td>2530</td>\n",
       "    </tr>\n",
       "    <tr>\n",
       "      <th>1</th>\n",
       "      <td>Afghanistan</td>\n",
       "      <td>AFG</td>\n",
       "      <td>1962</td>\n",
       "      <td>12</td>\n",
       "      <td>0.0</td>\n",
       "      <td>45</td>\n",
       "      <td>98</td>\n",
       "      <td>88</td>\n",
       "      <td>101</td>\n",
       "      <td>76</td>\n",
       "      <td>22</td>\n",
       "      <td>17</td>\n",
       "      <td>2458</td>\n",
       "    </tr>\n",
       "    <tr>\n",
       "      <th>2</th>\n",
       "      <td>Afghanistan</td>\n",
       "      <td>AFG</td>\n",
       "      <td>1963</td>\n",
       "      <td>13</td>\n",
       "      <td>0.0</td>\n",
       "      <td>47</td>\n",
       "      <td>106</td>\n",
       "      <td>91</td>\n",
       "      <td>110</td>\n",
       "      <td>79</td>\n",
       "      <td>23</td>\n",
       "      <td>17</td>\n",
       "      <td>2212</td>\n",
       "    </tr>\n",
       "    <tr>\n",
       "      <th>3</th>\n",
       "      <td>Afghanistan</td>\n",
       "      <td>AFG</td>\n",
       "      <td>1964</td>\n",
       "      <td>11</td>\n",
       "      <td>0.0</td>\n",
       "      <td>55</td>\n",
       "      <td>102</td>\n",
       "      <td>93</td>\n",
       "      <td>110</td>\n",
       "      <td>95</td>\n",
       "      <td>24</td>\n",
       "      <td>18</td>\n",
       "      <td>2445</td>\n",
       "    </tr>\n",
       "    <tr>\n",
       "      <th>4</th>\n",
       "      <td>Afghanistan</td>\n",
       "      <td>AFG</td>\n",
       "      <td>1965</td>\n",
       "      <td>13</td>\n",
       "      <td>0.0</td>\n",
       "      <td>57</td>\n",
       "      <td>105</td>\n",
       "      <td>95</td>\n",
       "      <td>118</td>\n",
       "      <td>95</td>\n",
       "      <td>24</td>\n",
       "      <td>18</td>\n",
       "      <td>2431</td>\n",
       "    </tr>\n",
       "  </tbody>\n",
       "</table>\n",
       "</div>"
      ],
      "text/plain": [
       "        Entity Code  Year  Other  Alcohol_beverages  Sugar  Oils_fats  Meat  \\\n",
       "0  Afghanistan  AFG  1961     13                0.0     51         92    88   \n",
       "1  Afghanistan  AFG  1962     12                0.0     45         98    88   \n",
       "2  Afghanistan  AFG  1963     13                0.0     47        106    91   \n",
       "3  Afghanistan  AFG  1964     11                0.0     55        102    93   \n",
       "4  Afghanistan  AFG  1965     13                0.0     57        105    95   \n",
       "\n",
       "   Dairy_eggs  Fruit_vegetables  Starchy_roots  Pulses  Cereals_grains  \n",
       "0         102                82             25      16            2530  \n",
       "1         101                76             22      17            2458  \n",
       "2         110                79             23      17            2212  \n",
       "3         110                95             24      18            2445  \n",
       "4         118                95             24      18            2431  "
      ]
     },
     "execution_count": 10,
     "metadata": {},
     "output_type": "execute_result"
    }
   ],
=======
   "execution_count": null,
   "id": "9501a922",
   "metadata": {},
   "outputs": [],
>>>>>>> 9d45dd43db4406800a7f084195d24c2210b204a3
   "source": [
    "table2.rename( columns={'Other (FAO (2017)) (kilocalories per person per day)' :'Other',\n",
    "       'Alcoholic Beverages (FAO (2017)) (kilocalories per person per day)': 'Alcohol_beverages',\n",
    "       'Sugar (FAO (2017)) (kilocalories per person per day)': 'Sugar',\n",
    "       'Oils & Fats (FAO (2017)) (kilocalories per person per day)':'Oils_fats',\n",
    "       'Meat (FAO (2017)) (kilocalories per person per day)':'Meat',\n",
    "       'Dairy & Eggs (FAO (2017)) (kilocalories per person per day)': 'Dairy_eggs',\n",
    "       'Fruit and Vegetables (FAO (2017)) (kilocalories per person per day)': 'Fruit_vegetables',\n",
    "       'Starchy Roots (FAO (2017)) (kilocalories per person per day)': 'Starchy_roots',\n",
    "       'Pulses (FAO (2017)) (kilocalories per person per day)': 'Pulses',\n",
    "       'Cereals and Grains (FAO (2017)) (kilocalories per person per day)' :'Cereals_grains' }, inplace=True )\n",
    "table2.head()"
   ]
  },
  {
   "cell_type": "code",
<<<<<<< HEAD
   "execution_count": 11,
   "id": "f01fd327",
   "metadata": {},
   "outputs": [
    {
     "data": {
      "text/plain": [
       "8154"
      ]
     },
     "execution_count": 11,
     "metadata": {},
     "output_type": "execute_result"
    }
   ],
=======
   "execution_count": null,
   "id": "f01fd327",
   "metadata": {},
   "outputs": [],
>>>>>>> 9d45dd43db4406800a7f084195d24c2210b204a3
   "source": [
    "table2.to_sql('dietary_composition', conn, if_exists='append', index=False)"
   ]
  },
  {
   "cell_type": "code",
<<<<<<< HEAD
   "execution_count": 12,
   "id": "8d657762",
   "metadata": {},
   "outputs": [
    {
     "data": {
      "text/plain": [
       "[('Afghanistan', 'AFG', 1961, 13, 0, 51, 92, 88, 102, 82, 25, 16, 2530),\n",
       " ('Afghanistan', 'AFG', 1962, 12, 0, 45, 98, 88, 101, 76, 22, 17, 2458),\n",
       " ('Afghanistan', 'AFG', 1963, 13, 0, 47, 106, 91, 110, 79, 23, 17, 2212),\n",
       " ('Afghanistan', 'AFG', 1964, 11, 0, 55, 102, 93, 110, 95, 24, 18, 2445),\n",
       " ('Afghanistan', 'AFG', 1965, 13, 0, 57, 105, 95, 118, 95, 24, 18, 2431)]"
      ]
     },
     "execution_count": 12,
     "metadata": {},
     "output_type": "execute_result"
    }
   ],
=======
   "execution_count": null,
   "id": "8d657762",
   "metadata": {},
   "outputs": [],
>>>>>>> 9d45dd43db4406800a7f084195d24c2210b204a3
   "source": [
    "c.execute('''SELECT * FROM dietary_composition LIMIT 5''').fetchall()"
   ]
  },
  {
   "cell_type": "code",
<<<<<<< HEAD
   "execution_count": 13,
   "id": "af672f97",
   "metadata": {},
   "outputs": [
    {
     "data": {
      "text/plain": [
       "<sqlite3.Cursor at 0x7f988b4a8d50>"
      ]
     },
     "execution_count": 13,
     "metadata": {},
     "output_type": "execute_result"
    }
   ],
=======
   "execution_count": null,
   "id": "af672f97",
   "metadata": {},
   "outputs": [],
>>>>>>> 9d45dd43db4406800a7f084195d24c2210b204a3
   "source": [
    "c.execute( '''CREATE TABLE Disability_adjusted_life_years \n",
    "           (Entity text,\n",
    "            Code text,\n",
    "            Year int, \n",
    "            Disability_adjusted_life_years double precision, \n",
    "            PRIMARY KEY (Entity, Year)) ''' )"
   ]
  },
  {
   "cell_type": "code",
<<<<<<< HEAD
   "execution_count": 14,
   "id": "c979a628",
   "metadata": {},
   "outputs": [
    {
     "data": {
      "text/plain": [
       "Index(['Entity', 'Code', 'Year',\n",
       "       'DALYs (Disability-Adjusted Life Years) - All causes - Sex: Both - Age: Age-standardized (Rate)'],\n",
       "      dtype='object')"
      ]
     },
     "execution_count": 14,
     "metadata": {},
     "output_type": "execute_result"
    }
   ],
=======
   "execution_count": null,
   "id": "c979a628",
   "metadata": {},
   "outputs": [],
>>>>>>> 9d45dd43db4406800a7f084195d24c2210b204a3
   "source": [
    "table3 = pd.read_csv(\"/Users/miga/Desktop/empty/UTOR_Project3_Team4/Resources/disease_data/dalys-rate-from-all-causes (1).csv\")\n",
    "\n",
    "table3.columns"
   ]
  },
  {
   "cell_type": "code",
<<<<<<< HEAD
   "execution_count": 15,
   "id": "6672bcab",
   "metadata": {},
   "outputs": [
    {
     "data": {
      "text/html": [
       "<div>\n",
       "<style scoped>\n",
       "    .dataframe tbody tr th:only-of-type {\n",
       "        vertical-align: middle;\n",
       "    }\n",
       "\n",
       "    .dataframe tbody tr th {\n",
       "        vertical-align: top;\n",
       "    }\n",
       "\n",
       "    .dataframe thead th {\n",
       "        text-align: right;\n",
       "    }\n",
       "</style>\n",
       "<table border=\"1\" class=\"dataframe\">\n",
       "  <thead>\n",
       "    <tr style=\"text-align: right;\">\n",
       "      <th></th>\n",
       "      <th>Entity</th>\n",
       "      <th>Code</th>\n",
       "      <th>Year</th>\n",
       "      <th>Disability_adjusted_life_years</th>\n",
       "    </tr>\n",
       "  </thead>\n",
       "  <tbody>\n",
       "    <tr>\n",
       "      <th>0</th>\n",
       "      <td>Afghanistan</td>\n",
       "      <td>AFG</td>\n",
       "      <td>1990</td>\n",
       "      <td>86375.17</td>\n",
       "    </tr>\n",
       "    <tr>\n",
       "      <th>1</th>\n",
       "      <td>Afghanistan</td>\n",
       "      <td>AFG</td>\n",
       "      <td>1991</td>\n",
       "      <td>83381.07</td>\n",
       "    </tr>\n",
       "    <tr>\n",
       "      <th>2</th>\n",
       "      <td>Afghanistan</td>\n",
       "      <td>AFG</td>\n",
       "      <td>1992</td>\n",
       "      <td>79890.55</td>\n",
       "    </tr>\n",
       "    <tr>\n",
       "      <th>3</th>\n",
       "      <td>Afghanistan</td>\n",
       "      <td>AFG</td>\n",
       "      <td>1993</td>\n",
       "      <td>80292.52</td>\n",
       "    </tr>\n",
       "    <tr>\n",
       "      <th>4</th>\n",
       "      <td>Afghanistan</td>\n",
       "      <td>AFG</td>\n",
       "      <td>1994</td>\n",
       "      <td>83334.93</td>\n",
       "    </tr>\n",
       "  </tbody>\n",
       "</table>\n",
       "</div>"
      ],
      "text/plain": [
       "        Entity Code  Year  Disability_adjusted_life_years\n",
       "0  Afghanistan  AFG  1990                        86375.17\n",
       "1  Afghanistan  AFG  1991                        83381.07\n",
       "2  Afghanistan  AFG  1992                        79890.55\n",
       "3  Afghanistan  AFG  1993                        80292.52\n",
       "4  Afghanistan  AFG  1994                        83334.93"
      ]
     },
     "execution_count": 15,
     "metadata": {},
     "output_type": "execute_result"
    }
   ],
=======
   "execution_count": null,
   "id": "6672bcab",
   "metadata": {},
   "outputs": [],
>>>>>>> 9d45dd43db4406800a7f084195d24c2210b204a3
   "source": [
    "table3.rename( columns={'DALYs (Disability-Adjusted Life Years) - All causes - Sex: Both - Age: Age-standardized (Rate)' :'Disability_adjusted_life_years',\n",
    "        }, inplace=True )\n",
    "table3.head()"
   ]
  },
  {
   "cell_type": "code",
<<<<<<< HEAD
   "execution_count": 16,
   "id": "3682144f",
   "metadata": {},
   "outputs": [
    {
     "data": {
      "text/plain": [
       "[('Afghanistan', 'AFG', 1990, 86375.17),\n",
       " ('Afghanistan', 'AFG', 1991, 83381.07),\n",
       " ('Afghanistan', 'AFG', 1992, 79890.55),\n",
       " ('Afghanistan', 'AFG', 1993, 80292.52),\n",
       " ('Afghanistan', 'AFG', 1994, 83334.93)]"
      ]
     },
     "execution_count": 16,
     "metadata": {},
     "output_type": "execute_result"
    }
   ],
=======
   "execution_count": null,
   "id": "3682144f",
   "metadata": {},
   "outputs": [],
>>>>>>> 9d45dd43db4406800a7f084195d24c2210b204a3
   "source": [
    "table3.to_sql('Disability_adjusted_life_years', conn, if_exists='append', index=False)\n",
    "c.execute('''SELECT * FROM Disability_adjusted_life_years  LIMIT 5''').fetchall()"
   ]
  },
  {
   "cell_type": "code",
<<<<<<< HEAD
   "execution_count": 17,
   "id": "7d87fc98",
   "metadata": {},
   "outputs": [
    {
     "data": {
      "text/plain": [
       "Index(['Entity', 'Code', 'Year',\n",
       "       'DALYs (Disability-Adjusted Life Years) - Injuries - Sex: Both - Age: All Ages (Number)',\n",
       "       'DALYs (Disability-Adjusted Life Years) - Communicable, maternal, neonatal, and nutritional diseases - Sex: Both - Age: All Ages (Number)',\n",
       "       'DALYs (Disability-Adjusted Life Years) - Non-communicable diseases - Sex: Both - Age: All Ages (Number)'],\n",
       "      dtype='object')"
      ]
     },
     "execution_count": 17,
     "metadata": {},
     "output_type": "execute_result"
    }
   ],
=======
   "execution_count": null,
   "id": "7d87fc98",
   "metadata": {},
   "outputs": [],
>>>>>>> 9d45dd43db4406800a7f084195d24c2210b204a3
   "source": [
    "table4= pd.read_csv(\"/Users/miga/Desktop/empty/UTOR_Project3_Team4/Resources/disease_data/total-disease-burden-by-cause.csv\")\n",
    "\n",
    "table4.columns"
   ]
  },
  {
   "cell_type": "code",
<<<<<<< HEAD
   "execution_count": 18,
   "id": "05404828",
   "metadata": {},
   "outputs": [
    {
     "data": {
      "text/html": [
       "<div>\n",
       "<style scoped>\n",
       "    .dataframe tbody tr th:only-of-type {\n",
       "        vertical-align: middle;\n",
       "    }\n",
       "\n",
       "    .dataframe tbody tr th {\n",
       "        vertical-align: top;\n",
       "    }\n",
       "\n",
       "    .dataframe thead th {\n",
       "        text-align: right;\n",
       "    }\n",
       "</style>\n",
       "<table border=\"1\" class=\"dataframe\">\n",
       "  <thead>\n",
       "    <tr style=\"text-align: right;\">\n",
       "      <th></th>\n",
       "      <th>Entity</th>\n",
       "      <th>Code</th>\n",
       "      <th>Year</th>\n",
       "      <th>Injuries</th>\n",
       "      <th>Communicable_maternal_neonatal_nutritional_diseases</th>\n",
       "      <th>Non_communicable_diseases</th>\n",
       "    </tr>\n",
       "  </thead>\n",
       "  <tbody>\n",
       "    <tr>\n",
       "      <th>0</th>\n",
       "      <td>Afghanistan</td>\n",
       "      <td>AFG</td>\n",
       "      <td>1990</td>\n",
       "      <td>1293079.02</td>\n",
       "      <td>6240337.78</td>\n",
       "      <td>4169945.97</td>\n",
       "    </tr>\n",
       "    <tr>\n",
       "      <th>1</th>\n",
       "      <td>Afghanistan</td>\n",
       "      <td>AFG</td>\n",
       "      <td>1991</td>\n",
       "      <td>1590438.17</td>\n",
       "      <td>6617505.67</td>\n",
       "      <td>4358689.63</td>\n",
       "    </tr>\n",
       "    <tr>\n",
       "      <th>2</th>\n",
       "      <td>Afghanistan</td>\n",
       "      <td>AFG</td>\n",
       "      <td>1992</td>\n",
       "      <td>1778976.16</td>\n",
       "      <td>7444205.97</td>\n",
       "      <td>4761240.74</td>\n",
       "    </tr>\n",
       "    <tr>\n",
       "      <th>3</th>\n",
       "      <td>Afghanistan</td>\n",
       "      <td>AFG</td>\n",
       "      <td>1993</td>\n",
       "      <td>1895010.45</td>\n",
       "      <td>8399924.52</td>\n",
       "      <td>5138670.97</td>\n",
       "    </tr>\n",
       "    <tr>\n",
       "      <th>4</th>\n",
       "      <td>Afghanistan</td>\n",
       "      <td>AFG</td>\n",
       "      <td>1994</td>\n",
       "      <td>2299921.10</td>\n",
       "      <td>9026603.36</td>\n",
       "      <td>5348115.29</td>\n",
       "    </tr>\n",
       "  </tbody>\n",
       "</table>\n",
       "</div>"
      ],
      "text/plain": [
       "        Entity Code  Year    Injuries  \\\n",
       "0  Afghanistan  AFG  1990  1293079.02   \n",
       "1  Afghanistan  AFG  1991  1590438.17   \n",
       "2  Afghanistan  AFG  1992  1778976.16   \n",
       "3  Afghanistan  AFG  1993  1895010.45   \n",
       "4  Afghanistan  AFG  1994  2299921.10   \n",
       "\n",
       "   Communicable_maternal_neonatal_nutritional_diseases  \\\n",
       "0                                         6240337.78     \n",
       "1                                         6617505.67     \n",
       "2                                         7444205.97     \n",
       "3                                         8399924.52     \n",
       "4                                         9026603.36     \n",
       "\n",
       "   Non_communicable_diseases  \n",
       "0                 4169945.97  \n",
       "1                 4358689.63  \n",
       "2                 4761240.74  \n",
       "3                 5138670.97  \n",
       "4                 5348115.29  "
      ]
     },
     "execution_count": 18,
     "metadata": {},
     "output_type": "execute_result"
    }
   ],
=======
   "execution_count": null,
   "id": "05404828",
   "metadata": {},
   "outputs": [],
>>>>>>> 9d45dd43db4406800a7f084195d24c2210b204a3
   "source": [
    "table4.rename( columns={'DALYs (Disability-Adjusted Life Years) - Injuries - Sex: Both - Age: All Ages (Number)': 'Injuries',\n",
    "       'DALYs (Disability-Adjusted Life Years) - Communicable, maternal, neonatal, and nutritional diseases - Sex: Both - Age: All Ages (Number)': 'Communicable_maternal_neonatal_nutritional_diseases',\n",
    "       'DALYs (Disability-Adjusted Life Years) - Non-communicable diseases - Sex: Both - Age: All Ages (Number)': 'Non_communicable_diseases'\n",
    "        }, inplace=True )\n",
    "table4.head()"
   ]
  },
  {
   "cell_type": "code",
<<<<<<< HEAD
   "execution_count": 19,
   "id": "9eb32a31",
   "metadata": {},
   "outputs": [
    {
     "data": {
      "text/plain": [
       "<sqlite3.Cursor at 0x7f988b4a8d50>"
      ]
     },
     "execution_count": 19,
     "metadata": {},
     "output_type": "execute_result"
    }
   ],
=======
   "execution_count": null,
   "id": "9eb32a31",
   "metadata": {},
   "outputs": [],
>>>>>>> 9d45dd43db4406800a7f084195d24c2210b204a3
   "source": [
    "c.execute( '''CREATE TABLE Total_disease_burden_by_cause \n",
    "           (Entity text,\n",
    "            Code text,\n",
    "            Year int, \n",
    "            Injuries double precision,\n",
    "            Communicable_maternal_neonatal_nutritional_diseases double precision,\n",
    "            Non_communicable_diseases double precision,\n",
    "            PRIMARY KEY (Entity, Year)) ''' )"
   ]
  },
  {
   "cell_type": "code",
<<<<<<< HEAD
   "execution_count": 20,
   "id": "fdf591f0",
   "metadata": {},
   "outputs": [
    {
     "data": {
      "text/plain": [
       "[('Afghanistan', 'AFG', 1990, 1293079.02, 6240337.78, 4169945.97),\n",
       " ('Afghanistan', 'AFG', 1991, 1590438.17, 6617505.67, 4358689.63),\n",
       " ('Afghanistan', 'AFG', 1992, 1778976.16, 7444205.97, 4761240.74),\n",
       " ('Afghanistan', 'AFG', 1993, 1895010.45, 8399924.52, 5138670.97),\n",
       " ('Afghanistan', 'AFG', 1994, 2299921.1, 9026603.36, 5348115.29)]"
      ]
     },
     "execution_count": 20,
     "metadata": {},
     "output_type": "execute_result"
    }
   ],
=======
   "execution_count": null,
   "id": "fdf591f0",
   "metadata": {},
   "outputs": [],
>>>>>>> 9d45dd43db4406800a7f084195d24c2210b204a3
   "source": [
    "table4.to_sql('Total_disease_burden_by_cause', conn, if_exists='append', index=False)\n",
    "c.execute('''SELECT * FROM Total_disease_burden_by_cause  LIMIT 5''').fetchall()"
   ]
  },
  {
   "cell_type": "code",
<<<<<<< HEAD
   "execution_count": 21,
   "id": "611e1af9",
   "metadata": {},
   "outputs": [
    {
     "data": {
      "text/plain": [
       "Index(['Entity', 'Code', 'Year',\n",
       "       'DALYs (Disability-Adjusted Life Years) - Self-harm - Sex: Both - Age: All Ages (Percent)',\n",
       "       'DALYs (Disability-Adjusted Life Years) - Exposure to forces of nature - Sex: Both - Age: All Ages (Percent)',\n",
       "       'DALYs (Disability-Adjusted Life Years) - Conflict and terrorism - Sex: Both - Age: All Ages (Percent)',\n",
       "       'DALYs (Disability-Adjusted Life Years) - Interpersonal violence - Sex: Both - Age: All Ages (Percent)',\n",
       "       'DALYs (Disability-Adjusted Life Years) - Neglected tropical diseases and malaria - Sex: Both - Age: All Ages (Percent)',\n",
       "       'DALYs (Disability-Adjusted Life Years) - Substance use disorders - Sex: Both - Age: All Ages (Percent)',\n",
       "       'DALYs (Disability-Adjusted Life Years) - Skin and subcutaneous diseases - Sex: Both - Age: All Ages (Percent)',\n",
       "       'DALYs (Disability-Adjusted Life Years) - Enteric infections - Sex: Both - Age: All Ages (Percent)',\n",
       "       'DALYs (Disability-Adjusted Life Years) - Diabetes and kidney diseases - Sex: Both - Age: All Ages (Percent)',\n",
       "       'DALYs (Disability-Adjusted Life Years) - Cardiovascular diseases - Sex: Both - Age: All Ages (Percent)',\n",
       "       'DALYs (Disability-Adjusted Life Years) - Digestive diseases - Sex: Both - Age: All Ages (Percent)',\n",
       "       'DALYs (Disability-Adjusted Life Years) - Nutritional deficiencies - Sex: Both - Age: All Ages (Percent)',\n",
       "       'DALYs (Disability-Adjusted Life Years) - Respiratory infections and tuberculosis - Sex: Both - Age: All Ages (Percent)',\n",
       "       'DALYs (Disability-Adjusted Life Years) - Neonatal disorders - Sex: Both - Age: All Ages (Percent)',\n",
       "       'DALYs (Disability-Adjusted Life Years) - Chronic respiratory diseases - Sex: Both - Age: All Ages (Percent)',\n",
       "       'DALYs (Disability-Adjusted Life Years) - Other non-communicable diseases - Sex: Both - Age: All Ages (Percent)',\n",
       "       'DALYs (Disability-Adjusted Life Years) - Maternal disorders - Sex: Both - Age: All Ages (Percent)',\n",
       "       'DALYs (Disability-Adjusted Life Years) - Unintentional injuries - Sex: Both - Age: All Ages (Percent)',\n",
       "       'DALYs (Disability-Adjusted Life Years) - Musculoskeletal disorders - Sex: Both - Age: All Ages (Percent)',\n",
       "       'DALYs (Disability-Adjusted Life Years) - Neoplasms - Sex: Both - Age: All Ages (Percent)',\n",
       "       'DALYs (Disability-Adjusted Life Years) - Mental disorders - Sex: Both - Age: All Ages (Percent)',\n",
       "       'DALYs (Disability-Adjusted Life Years) - Neurological disorders - Sex: Both - Age: All Ages (Percent)',\n",
       "       'DALYs (Disability-Adjusted Life Years) - HIV/AIDS and sexually transmitted infections - Sex: Both - Age: All Ages (Percent)',\n",
       "       'DALYs (Disability-Adjusted Life Years) - Transport injuries - Sex: Both - Age: All Ages (Percent)',\n",
       "       'DALYs (Disability-Adjusted Life Years) - Sense organ diseases - Sex: Both - Age: All Ages (Percent)'],\n",
       "      dtype='object')"
      ]
     },
     "execution_count": 21,
     "metadata": {},
     "output_type": "execute_result"
    }
   ],
=======
   "execution_count": null,
   "id": "611e1af9",
   "metadata": {},
   "outputs": [],
>>>>>>> 9d45dd43db4406800a7f084195d24c2210b204a3
   "source": [
    "table5= pd.read_csv(\"/Users/miga/Desktop/empty/UTOR_Project3_Team4/Resources/disease_data/share-of-total-disease-burden-by-cause.csv\")\n",
    "\n",
    "table5.columns"
   ]
  },
  {
   "cell_type": "code",
<<<<<<< HEAD
   "execution_count": 22,
   "id": "a4018639",
   "metadata": {},
   "outputs": [
    {
     "data": {
      "text/html": [
       "<div>\n",
       "<style scoped>\n",
       "    .dataframe tbody tr th:only-of-type {\n",
       "        vertical-align: middle;\n",
       "    }\n",
       "\n",
       "    .dataframe tbody tr th {\n",
       "        vertical-align: top;\n",
       "    }\n",
       "\n",
       "    .dataframe thead th {\n",
       "        text-align: right;\n",
       "    }\n",
       "</style>\n",
       "<table border=\"1\" class=\"dataframe\">\n",
       "  <thead>\n",
       "    <tr style=\"text-align: right;\">\n",
       "      <th></th>\n",
       "      <th>Entity</th>\n",
       "      <th>Code</th>\n",
       "      <th>Year</th>\n",
       "      <th>Self_harm</th>\n",
       "      <th>Exposure_to_forces_of_nature</th>\n",
       "      <th>Conflict_terrorism</th>\n",
       "      <th>Interpersonal_violence</th>\n",
       "      <th>Neglected_tropical_diseases_and_malaria</th>\n",
       "      <th>Substance_use_disorder</th>\n",
       "      <th>Skin_and_subcutaneous_diseases</th>\n",
       "      <th>...</th>\n",
       "      <th>Other_non_communicable_diseases</th>\n",
       "      <th>Maternal_disorders</th>\n",
       "      <th>Unintentional_injuries</th>\n",
       "      <th>Musculoskeletal_disorders</th>\n",
       "      <th>Neoplasms</th>\n",
       "      <th>Mental_disorders</th>\n",
       "      <th>Neurological_disorders</th>\n",
       "      <th>HIV_AIDS_and_sexually_transmitted_infections</th>\n",
       "      <th>Transport_injuries</th>\n",
       "      <th>Sense_organ_diseases</th>\n",
       "    </tr>\n",
       "  </thead>\n",
       "  <tbody>\n",
       "    <tr>\n",
       "      <th>0</th>\n",
       "      <td>Afghanistan</td>\n",
       "      <td>AFG</td>\n",
       "      <td>1990</td>\n",
       "      <td>0.31</td>\n",
       "      <td>0.01</td>\n",
       "      <td>3.69</td>\n",
       "      <td>0.83</td>\n",
       "      <td>1.12</td>\n",
       "      <td>0.19</td>\n",
       "      <td>0.42</td>\n",
       "      <td>...</td>\n",
       "      <td>11.94</td>\n",
       "      <td>1.35</td>\n",
       "      <td>3.81</td>\n",
       "      <td>0.94</td>\n",
       "      <td>3.27</td>\n",
       "      <td>1.70</td>\n",
       "      <td>1.28</td>\n",
       "      <td>0.12</td>\n",
       "      <td>2.38</td>\n",
       "      <td>0.65</td>\n",
       "    </tr>\n",
       "    <tr>\n",
       "      <th>1</th>\n",
       "      <td>Afghanistan</td>\n",
       "      <td>AFG</td>\n",
       "      <td>1991</td>\n",
       "      <td>0.31</td>\n",
       "      <td>0.66</td>\n",
       "      <td>4.60</td>\n",
       "      <td>1.01</td>\n",
       "      <td>1.14</td>\n",
       "      <td>0.19</td>\n",
       "      <td>0.42</td>\n",
       "      <td>...</td>\n",
       "      <td>11.87</td>\n",
       "      <td>1.38</td>\n",
       "      <td>4.35</td>\n",
       "      <td>0.92</td>\n",
       "      <td>3.13</td>\n",
       "      <td>1.73</td>\n",
       "      <td>1.27</td>\n",
       "      <td>0.12</td>\n",
       "      <td>2.35</td>\n",
       "      <td>0.63</td>\n",
       "    </tr>\n",
       "    <tr>\n",
       "      <th>2</th>\n",
       "      <td>Afghanistan</td>\n",
       "      <td>AFG</td>\n",
       "      <td>1992</td>\n",
       "      <td>0.33</td>\n",
       "      <td>0.29</td>\n",
       "      <td>4.94</td>\n",
       "      <td>1.06</td>\n",
       "      <td>1.10</td>\n",
       "      <td>0.20</td>\n",
       "      <td>0.44</td>\n",
       "      <td>...</td>\n",
       "      <td>12.27</td>\n",
       "      <td>1.44</td>\n",
       "      <td>3.94</td>\n",
       "      <td>0.90</td>\n",
       "      <td>2.98</td>\n",
       "      <td>1.79</td>\n",
       "      <td>1.27</td>\n",
       "      <td>0.15</td>\n",
       "      <td>2.42</td>\n",
       "      <td>0.60</td>\n",
       "    </tr>\n",
       "    <tr>\n",
       "      <th>3</th>\n",
       "      <td>Afghanistan</td>\n",
       "      <td>AFG</td>\n",
       "      <td>1993</td>\n",
       "      <td>0.33</td>\n",
       "      <td>0.11</td>\n",
       "      <td>4.55</td>\n",
       "      <td>1.09</td>\n",
       "      <td>0.96</td>\n",
       "      <td>0.21</td>\n",
       "      <td>0.43</td>\n",
       "      <td>...</td>\n",
       "      <td>12.50</td>\n",
       "      <td>1.45</td>\n",
       "      <td>3.80</td>\n",
       "      <td>0.87</td>\n",
       "      <td>2.84</td>\n",
       "      <td>1.78</td>\n",
       "      <td>1.24</td>\n",
       "      <td>0.17</td>\n",
       "      <td>2.48</td>\n",
       "      <td>0.57</td>\n",
       "    </tr>\n",
       "    <tr>\n",
       "      <th>4</th>\n",
       "      <td>Afghanistan</td>\n",
       "      <td>AFG</td>\n",
       "      <td>1994</td>\n",
       "      <td>0.32</td>\n",
       "      <td>0.08</td>\n",
       "      <td>6.23</td>\n",
       "      <td>1.10</td>\n",
       "      <td>0.92</td>\n",
       "      <td>0.20</td>\n",
       "      <td>0.42</td>\n",
       "      <td>...</td>\n",
       "      <td>12.18</td>\n",
       "      <td>1.41</td>\n",
       "      <td>3.71</td>\n",
       "      <td>0.82</td>\n",
       "      <td>2.70</td>\n",
       "      <td>1.71</td>\n",
       "      <td>1.20</td>\n",
       "      <td>0.17</td>\n",
       "      <td>2.41</td>\n",
       "      <td>0.54</td>\n",
       "    </tr>\n",
       "  </tbody>\n",
       "</table>\n",
       "<p>5 rows × 28 columns</p>\n",
       "</div>"
      ],
      "text/plain": [
       "        Entity Code  Year  Self_harm  Exposure_to_forces_of_nature  \\\n",
       "0  Afghanistan  AFG  1990       0.31                          0.01   \n",
       "1  Afghanistan  AFG  1991       0.31                          0.66   \n",
       "2  Afghanistan  AFG  1992       0.33                          0.29   \n",
       "3  Afghanistan  AFG  1993       0.33                          0.11   \n",
       "4  Afghanistan  AFG  1994       0.32                          0.08   \n",
       "\n",
       "   Conflict_terrorism  Interpersonal_violence  \\\n",
       "0                3.69                    0.83   \n",
       "1                4.60                    1.01   \n",
       "2                4.94                    1.06   \n",
       "3                4.55                    1.09   \n",
       "4                6.23                    1.10   \n",
       "\n",
       "   Neglected_tropical_diseases_and_malaria  Substance_use_disorder  \\\n",
       "0                                     1.12                    0.19   \n",
       "1                                     1.14                    0.19   \n",
       "2                                     1.10                    0.20   \n",
       "3                                     0.96                    0.21   \n",
       "4                                     0.92                    0.20   \n",
       "\n",
       "   Skin_and_subcutaneous_diseases  ...  Other_non_communicable_diseases  \\\n",
       "0                            0.42  ...                            11.94   \n",
       "1                            0.42  ...                            11.87   \n",
       "2                            0.44  ...                            12.27   \n",
       "3                            0.43  ...                            12.50   \n",
       "4                            0.42  ...                            12.18   \n",
       "\n",
       "   Maternal_disorders  Unintentional_injuries  Musculoskeletal_disorders  \\\n",
       "0                1.35                    3.81                       0.94   \n",
       "1                1.38                    4.35                       0.92   \n",
       "2                1.44                    3.94                       0.90   \n",
       "3                1.45                    3.80                       0.87   \n",
       "4                1.41                    3.71                       0.82   \n",
       "\n",
       "   Neoplasms  Mental_disorders  Neurological_disorders  \\\n",
       "0       3.27              1.70                    1.28   \n",
       "1       3.13              1.73                    1.27   \n",
       "2       2.98              1.79                    1.27   \n",
       "3       2.84              1.78                    1.24   \n",
       "4       2.70              1.71                    1.20   \n",
       "\n",
       "   HIV_AIDS_and_sexually_transmitted_infections  Transport_injuries  \\\n",
       "0                                          0.12                2.38   \n",
       "1                                          0.12                2.35   \n",
       "2                                          0.15                2.42   \n",
       "3                                          0.17                2.48   \n",
       "4                                          0.17                2.41   \n",
       "\n",
       "   Sense_organ_diseases  \n",
       "0                  0.65  \n",
       "1                  0.63  \n",
       "2                  0.60  \n",
       "3                  0.57  \n",
       "4                  0.54  \n",
       "\n",
       "[5 rows x 28 columns]"
      ]
     },
     "execution_count": 22,
     "metadata": {},
     "output_type": "execute_result"
    }
   ],
=======
   "execution_count": null,
   "id": "a4018639",
   "metadata": {},
   "outputs": [],
>>>>>>> 9d45dd43db4406800a7f084195d24c2210b204a3
   "source": [
    "table5.rename( columns={'Entity': 'Entity',\n",
    "    'DALYs (Disability-Adjusted Life Years) - Self-harm - Sex: Both - Age: All Ages (Percent)' : 'Self_harm',\n",
    "       'DALYs (Disability-Adjusted Life Years) - Exposure to forces of nature - Sex: Both - Age: All Ages (Percent)': 'Exposure_to_forces_of_nature',\n",
    "       'DALYs (Disability-Adjusted Life Years) - Conflict and terrorism - Sex: Both - Age: All Ages (Percent)': 'Conflict_terrorism',\n",
    "       'DALYs (Disability-Adjusted Life Years) - Interpersonal violence - Sex: Both - Age: All Ages (Percent)': 'Interpersonal_violence',\n",
    "       'DALYs (Disability-Adjusted Life Years) - Neglected tropical diseases and malaria - Sex: Both - Age: All Ages (Percent)': 'Neglected_tropical_diseases_and_malaria',\n",
    "       'DALYs (Disability-Adjusted Life Years) - Substance use disorders - Sex: Both - Age: All Ages (Percent)': 'Substance_use_disorder',\n",
    "       'DALYs (Disability-Adjusted Life Years) - Skin and subcutaneous diseases - Sex: Both - Age: All Ages (Percent)': 'Skin_and_subcutaneous_diseases',\n",
    "       'DALYs (Disability-Adjusted Life Years) - Enteric infections - Sex: Both - Age: All Ages (Percent)': 'Enteric_infections',\n",
    "       'DALYs (Disability-Adjusted Life Years) - Diabetes and kidney diseases - Sex: Both - Age: All Ages (Percent)': 'Diabetes_and_kidney_diseases',\n",
    "       'DALYs (Disability-Adjusted Life Years) - Cardiovascular diseases - Sex: Both - Age: All Ages (Percent)': 'Cardiovascular_diseases',\n",
    "       'DALYs (Disability-Adjusted Life Years) - Digestive diseases - Sex: Both - Age: All Ages (Percent)': 'Digestive_diseases',\n",
    "       'DALYs (Disability-Adjusted Life Years) - Nutritional deficiencies - Sex: Both - Age: All Ages (Percent)': 'Nutritional_deficiencies',\n",
    "       'DALYs (Disability-Adjusted Life Years) - Respiratory infections and tuberculosis - Sex: Both - Age: All Ages (Percent)': 'Respiratory_infections_and_tuberculosis',\n",
    "       'DALYs (Disability-Adjusted Life Years) - Neonatal disorders - Sex: Both - Age: All Ages (Percent)': 'Neonatal_disorders',\n",
    "       'DALYs (Disability-Adjusted Life Years) - Chronic respiratory diseases - Sex: Both - Age: All Ages (Percent)':'Chronic_respiratory_diseases',\n",
    "       'DALYs (Disability-Adjusted Life Years) - Other non-communicable diseases - Sex: Both - Age: All Ages (Percent)':'Other_non_communicable_diseases',\n",
    "       'DALYs (Disability-Adjusted Life Years) - Maternal disorders - Sex: Both - Age: All Ages (Percent)': 'Maternal_disorders',\n",
    "       'DALYs (Disability-Adjusted Life Years) - Unintentional injuries - Sex: Both - Age: All Ages (Percent)': 'Unintentional_injuries',\n",
    "       'DALYs (Disability-Adjusted Life Years) - Musculoskeletal disorders - Sex: Both - Age: All Ages (Percent)': 'Musculoskeletal_disorders',\n",
    "       'DALYs (Disability-Adjusted Life Years) - Neoplasms - Sex: Both - Age: All Ages (Percent)': 'Neoplasms',\n",
    "       'DALYs (Disability-Adjusted Life Years) - Mental disorders - Sex: Both - Age: All Ages (Percent)': 'Mental_disorders',\n",
    "       'DALYs (Disability-Adjusted Life Years) - Neurological disorders - Sex: Both - Age: All Ages (Percent)': 'Neurological_disorders',\n",
    "       'DALYs (Disability-Adjusted Life Years) - HIV/AIDS and sexually transmitted infections - Sex: Both - Age: All Ages (Percent)': 'HIV_AIDS_and_sexually_transmitted_infections',\n",
    "       'DALYs (Disability-Adjusted Life Years) - Transport injuries - Sex: Both - Age: All Ages (Percent)': 'Transport_injuries',\n",
    "       'DALYs (Disability-Adjusted Life Years) - Sense organ diseases - Sex: Both - Age: All Ages (Percent)': 'Sense_organ_diseases'\n",
    "        }, inplace=True )\n",
    "table5.head()"
   ]
  },
  {
   "cell_type": "code",
<<<<<<< HEAD
   "execution_count": 23,
   "id": "26223234",
   "metadata": {},
   "outputs": [
    {
     "data": {
      "text/plain": [
       "<sqlite3.Cursor at 0x7f988b4a8d50>"
      ]
     },
     "execution_count": 23,
     "metadata": {},
     "output_type": "execute_result"
    }
   ],
=======
   "execution_count": null,
   "id": "26223234",
   "metadata": {},
   "outputs": [],
>>>>>>> 9d45dd43db4406800a7f084195d24c2210b204a3
   "source": [
    "c.execute( '''CREATE TABLE disease_burden_by_diseases\n",
    "(Entity text,\n",
    "Code text,\n",
    "Year int,\n",
    "Self_harm double precision,\n",
    "Exposure_to_forces_of_nature double precision,\n",
    "Conflict_terrorism double precision,\n",
    "Interpersonal_violence double precision,\n",
    "Neglected_tropical_diseases_and_malaria double precision,\n",
    "Substance_use_disorder double precision,\n",
    "Skin_and_subcutaneous_diseases double precision,\n",
    "Enteric_infections double precision,\n",
    "Diabetes_and_kidney_diseases double precision,\n",
    "Cardiovascular_diseases double precision,\n",
    "Digestive_diseases double precision,\n",
    "Nutritional_deficiencies double precision,\n",
    "Respiratory_infections_and_tuberculosis double precision,\n",
    "Neonatal_disorders double precision,\n",
    "Chronic_respiratory_diseases double precision,\n",
    "Other_non_communicable_diseases double precision,\n",
    "Maternal_disorders double precision,\n",
    "Unintentional_injuries double precision,\n",
    "Musculoskeletal_disorders double precision,\n",
    "Neoplasms double precision,\n",
    "Mental_disorders double precision,\n",
    "Neurological_disorders double precision,\n",
    "HIV_AIDS_and_sexually_transmitted_infections double precision,\n",
    "Transport_injuries double precision,\n",
    "Sense_organ_diseases double precision,\n",
    "PRIMARY KEY (Entity, Year))''')"
   ]
  },
  {
   "cell_type": "code",
<<<<<<< HEAD
   "execution_count": 24,
   "id": "76b3cb63",
   "metadata": {},
   "outputs": [
    {
     "data": {
      "text/plain": [
       "[('Afghanistan',\n",
       "  'AFG',\n",
       "  1990,\n",
       "  0.31,\n",
       "  0.01,\n",
       "  3.69,\n",
       "  0.83,\n",
       "  1.12,\n",
       "  0.19,\n",
       "  0.42,\n",
       "  3.46,\n",
       "  1.78,\n",
       "  10.22,\n",
       "  1.62,\n",
       "  2.02,\n",
       "  18.2,\n",
       "  12.02,\n",
       "  1.64,\n",
       "  11.94,\n",
       "  1.35,\n",
       "  3.81,\n",
       "  0.94,\n",
       "  3.27,\n",
       "  1.7,\n",
       "  1.28,\n",
       "  0.12,\n",
       "  2.38,\n",
       "  0.65),\n",
       " ('Afghanistan',\n",
       "  'AFG',\n",
       "  1991,\n",
       "  0.31,\n",
       "  0.66,\n",
       "  4.6,\n",
       "  1.01,\n",
       "  1.14,\n",
       "  0.19,\n",
       "  0.42,\n",
       "  3.74,\n",
       "  1.69,\n",
       "  9.69,\n",
       "  1.57,\n",
       "  1.98,\n",
       "  17.53,\n",
       "  12.28,\n",
       "  1.57,\n",
       "  11.87,\n",
       "  1.38,\n",
       "  4.35,\n",
       "  0.92,\n",
       "  3.13,\n",
       "  1.73,\n",
       "  1.27,\n",
       "  0.12,\n",
       "  2.35,\n",
       "  0.63),\n",
       " ('Afghanistan',\n",
       "  'AFG',\n",
       "  1992,\n",
       "  0.33,\n",
       "  0.29,\n",
       "  4.94,\n",
       "  1.06,\n",
       "  1.1,\n",
       "  0.2,\n",
       "  0.44,\n",
       "  4.17,\n",
       "  1.59,\n",
       "  9.01,\n",
       "  1.52,\n",
       "  2.03,\n",
       "  17.71,\n",
       "  12.92,\n",
       "  1.49,\n",
       "  12.27,\n",
       "  1.44,\n",
       "  3.94,\n",
       "  0.9,\n",
       "  2.98,\n",
       "  1.79,\n",
       "  1.27,\n",
       "  0.15,\n",
       "  2.42,\n",
       "  0.6),\n",
       " ('Afghanistan',\n",
       "  'AFG',\n",
       "  1993,\n",
       "  0.33,\n",
       "  0.11,\n",
       "  4.55,\n",
       "  1.09,\n",
       "  0.96,\n",
       "  0.21,\n",
       "  0.43,\n",
       "  4.97,\n",
       "  1.5,\n",
       "  8.47,\n",
       "  1.47,\n",
       "  2.12,\n",
       "  18.27,\n",
       "  13.03,\n",
       "  1.43,\n",
       "  12.5,\n",
       "  1.45,\n",
       "  3.8,\n",
       "  0.87,\n",
       "  2.84,\n",
       "  1.78,\n",
       "  1.24,\n",
       "  0.17,\n",
       "  2.48,\n",
       "  0.57),\n",
       " ('Afghanistan',\n",
       "  'AFG',\n",
       "  1994,\n",
       "  0.32,\n",
       "  0.08,\n",
       "  6.23,\n",
       "  1.1,\n",
       "  0.92,\n",
       "  0.2,\n",
       "  0.42,\n",
       "  4.65,\n",
       "  1.43,\n",
       "  8.08,\n",
       "  1.42,\n",
       "  2.12,\n",
       "  18.17,\n",
       "  12.57,\n",
       "  1.37,\n",
       "  12.18,\n",
       "  1.41,\n",
       "  3.71,\n",
       "  0.82,\n",
       "  2.7,\n",
       "  1.71,\n",
       "  1.2,\n",
       "  0.17,\n",
       "  2.41,\n",
       "  0.54)]"
      ]
     },
     "execution_count": 24,
     "metadata": {},
     "output_type": "execute_result"
    }
   ],
=======
   "execution_count": null,
   "id": "76b3cb63",
   "metadata": {},
   "outputs": [],
>>>>>>> 9d45dd43db4406800a7f084195d24c2210b204a3
   "source": [
    "table5.to_sql('disease_burden_by_diseases', conn, if_exists='append', index=False)\n",
    "c.execute('''SELECT * FROM disease_burden_by_diseases  LIMIT 5''').fetchall()"
   ]
  },
  {
   "cell_type": "code",
<<<<<<< HEAD
   "execution_count": 25,
=======
   "execution_count": null,
>>>>>>> 9d45dd43db4406800a7f084195d24c2210b204a3
   "id": "2533eb5f",
   "metadata": {},
   "outputs": [],
   "source": [
    "\n",
    "c.execute(\"SELECT name FROM sqlite_master WHERE type='table';\")\n",
    "print(c.fetchall())"
   ]
  },
  {
   "cell_type": "markdown",
   "id": "b59e81c0",
   "metadata": {},
   "source": [
    "### Creating Script for non-relational database"
   ]
  },
  {
   "cell_type": "code",
   "execution_count": null,
   "id": "63ac0e7d",
   "metadata": {},
   "outputs": [],
   "source": [
    "text1 = \"\"\n",
    "\n",
    "for i in table1.columns:\n",
    "    text1 += f\"\"\"\"{i}\" : row.{i},\"\"\"\n",
    "\n",
    "text1"
   ]
  },
  {
   "cell_type": "code",
   "execution_count": null,
   "id": "c302350b",
   "metadata": {},
   "outputs": [],
   "source": [
    "text2 = \"\"\n",
    "\n",
    "for i in table2.columns:\n",
    "    text2 += f\"\"\"\"{i}\" : row.{i},\"\"\"\n",
    "\n",
    "text2"
   ]
  },
  {
   "cell_type": "code",
   "execution_count": null,
   "id": "7625a122",
   "metadata": {},
   "outputs": [],
   "source": [
    "text3 = \"\"\n",
    "\n",
    "for i in table3.columns:\n",
    "    text3 += f\"\"\"\"{i}\" : row.{i},\"\"\"\n",
    "\n",
    "text3"
   ]
  },
  {
   "cell_type": "code",
   "execution_count": null,
   "id": "4c8fe0e2",
   "metadata": {},
   "outputs": [],
   "source": [
    "text4 = \"\"\n",
    "\n",
    "for i in table4.columns:\n",
    "    text4 += f\"\"\"\"{i}\" : row.{i},\"\"\"\n",
    "\n",
    "text4"
   ]
  },
  {
   "cell_type": "code",
   "execution_count": null,
   "id": "ceddb8a2",
   "metadata": {},
   "outputs": [],
   "source": [
    "text5 = \"\"\n",
    "\n",
    "for i in table5.columns:\n",
    "    text5 += f\"\"\"\"{i}\" : row.{i},\"\"\"\n",
    "\n",
    "text5"
   ]
  }
 ],
 "metadata": {
  "kernelspec": {
   "display_name": "Python 3 (ipykernel)",
   "language": "python",
   "name": "python3"
  },
  "language_info": {
   "codemirror_mode": {
    "name": "ipython",
    "version": 3
   },
   "file_extension": ".py",
   "mimetype": "text/x-python",
   "name": "python",
   "nbconvert_exporter": "python",
   "pygments_lexer": "ipython3",
   "version": "3.9.12"
  }
 },
 "nbformat": 4,
 "nbformat_minor": 5
}
