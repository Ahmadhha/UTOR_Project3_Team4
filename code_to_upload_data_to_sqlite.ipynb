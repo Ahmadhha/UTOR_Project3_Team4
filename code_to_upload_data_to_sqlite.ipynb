{
 "cells": [
  {
   "cell_type": "code",
   "execution_count": 1,
   "id": "c6a55432",
   "metadata": {},
   "outputs": [],
   "source": [
    "from pathlib import Path\n",
    "Path(\"diet_disease_db.sqlite\").touch()"
   ]
  },
  {
   "cell_type": "code",
   "execution_count": 2,
   "id": "f296eaad",
   "metadata": {},
   "outputs": [
    {
     "name": "stdout",
     "output_type": "stream",
     "text": [
      "Opened database successfully\n"
     ]
    }
   ],
   "source": [
    "#!/usr/bin/python\n",
    "\n",
    "import sqlite3\n",
    "\n",
    "conn = sqlite3.connect('diet_disease_db.sqlite')\n",
    "\n",
    "print(\"Opened database successfully\")\n",
    "\n",
    "c = conn.cursor()"
   ]
  },
  {
   "cell_type": "code",
   "execution_count": 3,
   "id": "35b30b33",
   "metadata": {},
   "outputs": [
    {
     "ename": "OperationalError",
     "evalue": "table calorie_info already exists",
     "output_type": "error",
     "traceback": [
      "\u001b[1;31m---------------------------------------------------------------------------\u001b[0m",
      "\u001b[1;31mOperationalError\u001b[0m                          Traceback (most recent call last)",
      "Input \u001b[1;32mIn [3]\u001b[0m, in \u001b[0;36m<cell line: 1>\u001b[1;34m()\u001b[0m\n\u001b[1;32m----> 1\u001b[0m \u001b[43mc\u001b[49m\u001b[38;5;241;43m.\u001b[39;49m\u001b[43mexecute\u001b[49m\u001b[43m(\u001b[49m\u001b[43m \u001b[49m\u001b[38;5;124;43m'''\u001b[39;49m\u001b[38;5;124;43mCREATE TABLE calorie_info \u001b[39;49m\n\u001b[0;32m      2\u001b[0m \u001b[38;5;124;43m              (Entity text, \u001b[39;49m\n\u001b[0;32m      3\u001b[0m \u001b[38;5;124;43m               Code text, \u001b[39;49m\n\u001b[0;32m      4\u001b[0m \u001b[38;5;124;43m               Year int, \u001b[39;49m\n\u001b[0;32m      5\u001b[0m \u001b[38;5;124;43m               Animal_protein double precision, \u001b[39;49m\n\u001b[0;32m      6\u001b[0m \u001b[38;5;124;43m               Plant_protein double precision, \u001b[39;49m\n\u001b[0;32m      7\u001b[0m \u001b[38;5;124;43m               Fat double precision, \u001b[39;49m\n\u001b[0;32m      8\u001b[0m \u001b[38;5;124;43m               Carbohydrate double precision, \u001b[39;49m\n\u001b[0;32m      9\u001b[0m \u001b[38;5;124;43m               PRIMARY KEY (Entity, Year)) \u001b[39;49m\u001b[38;5;124;43m'''\u001b[39;49m\u001b[43m \u001b[49m\u001b[43m)\u001b[49m\n",
      "\u001b[1;31mOperationalError\u001b[0m: table calorie_info already exists"
     ]
    }
   ],
   "source": [
    "c.execute( '''CREATE TABLE calorie_info \n",
    "              (Entity text, \n",
    "               Code text, \n",
    "               Year int, \n",
    "               Animal_protein double precision, \n",
    "               Plant_protein double precision, \n",
    "               Fat double precision, \n",
    "               Carbohydrate double precision, \n",
    "               PRIMARY KEY (Entity, Year)) ''' )\n",
    "\n"
   ]
  },
  {
   "cell_type": "code",
   "execution_count": null,
   "id": "23ce9335",
   "metadata": {},
   "outputs": [],
   "source": [
    "import pandas as pd\n",
    "\n",
    "table1 = pd.read_csv(\"Resources/diet_data/calorie_info.csv\")\n",
    "\n",
    "table1.columns"
   ]
  },
  {
   "cell_type": "code",
   "execution_count": null,
   "id": "d27d21f5",
   "metadata": {},
   "outputs": [],
   "source": [
    "table1.rename( columns={'Calories from animal protein (FAO (2017))': 'Animal_protein',\n",
    "       'Calories from plant protein (FAO (2017))': 'Plant_protein',\n",
    "       'Calories from fat (FAO (2017))': 'Fat',\n",
    "       'Calories from carbohydrates (FAO (2017))': 'Carbohydrate'}, inplace=True )\n",
    "table1.head()\n"
   ]
  },
  {
   "cell_type": "code",
   "execution_count": null,
   "id": "a9f2759a",
   "metadata": {},
   "outputs": [],
   "source": [
    "table1.to_sql('calorie_info', conn, if_exists='append', index=False)\n"
   ]
  },
  {
   "cell_type": "code",
   "execution_count": null,
   "id": "1914d8e8",
   "metadata": {},
   "outputs": [],
   "source": [
    "c.execute('''SELECT * FROM calorie_info LIMIT 10''').fetchall()\n",
    "\n"
   ]
  },
  {
   "cell_type": "code",
   "execution_count": null,
   "id": "f54aac48",
   "metadata": {},
   "outputs": [],
   "source": [
    "c.execute( '''CREATE TABLE dietary_composition \n",
    "           (Entity text,\n",
    "            Code text,\n",
    "            Year int, \n",
    "            Other int, \n",
    "            Alcohol_beverages int, \n",
    "            Sugar int, \n",
    "            Oils_fats int,\n",
    "            Meat int,\n",
    "            Dairy_eggs int,\n",
    "            Fruit_vegetables int,\n",
    "            Starchy_roots int,\n",
    "            Pulses int,\n",
    "            Cereals_grains  int,\n",
    "            PRIMARY KEY (Entity, Year)) ''' )\n",
    "\n"
   ]
  },
  {
   "cell_type": "code",
   "execution_count": null,
   "id": "734bc1f5",
   "metadata": {},
   "outputs": [],
   "source": [
    "table2 = pd.read_csv(\"Resources/diet_data/dietary_composition_info.csv\")\n",
    "\n",
    "table2.columns"
   ]
  },
  {
   "cell_type": "code",
   "execution_count": null,
   "id": "9501a922",
   "metadata": {},
   "outputs": [],
   "source": [
    "table2.rename( columns={'Other (FAO (2017)) (kilocalories per person per day)' :'Other',\n",
    "       'Alcoholic Beverages (FAO (2017)) (kilocalories per person per day)': 'Alcohol_beverages',\n",
    "       'Sugar (FAO (2017)) (kilocalories per person per day)': 'Sugar',\n",
    "       'Oils & Fats (FAO (2017)) (kilocalories per person per day)':'Oils_fats',\n",
    "       'Meat (FAO (2017)) (kilocalories per person per day)':'Meat',\n",
    "       'Dairy & Eggs (FAO (2017)) (kilocalories per person per day)': 'Dairy_eggs',\n",
    "       'Fruit and Vegetables (FAO (2017)) (kilocalories per person per day)': 'Fruit_vegetables',\n",
    "       'Starchy Roots (FAO (2017)) (kilocalories per person per day)': 'Starchy_roots',\n",
    "       'Pulses (FAO (2017)) (kilocalories per person per day)': 'Pulses',\n",
    "       'Cereals and Grains (FAO (2017)) (kilocalories per person per day)' :'Cereals_grains' }, inplace=True )\n",
    "table2.head()"
   ]
  },
  {
   "cell_type": "code",
   "execution_count": null,
   "id": "f01fd327",
   "metadata": {},
   "outputs": [],
   "source": [
    "table2.to_sql('dietary_composition', conn, if_exists='append', index=False)"
   ]
  },
  {
   "cell_type": "code",
   "execution_count": null,
   "id": "8d657762",
   "metadata": {},
   "outputs": [],
   "source": [
    "c.execute('''SELECT * FROM dietary_composition LIMIT 5''').fetchall()"
   ]
  },
  {
   "cell_type": "code",
   "execution_count": null,
   "id": "af672f97",
   "metadata": {},
   "outputs": [],
   "source": [
    "c.execute( '''CREATE TABLE Disability_adjusted_life_years \n",
    "           (Entity text,\n",
    "            Code text,\n",
    "            Year int, \n",
    "            Disability_adjusted_life_years double precision, \n",
    "            PRIMARY KEY (Entity, Year)) ''' )"
   ]
  },
  {
   "cell_type": "code",
   "execution_count": null,
   "id": "c979a628",
   "metadata": {},
   "outputs": [],
   "source": [
    "table3 = pd.read_csv(\"Resources/disease_data/dalys-rate-from-all-causes (1).csv\")\n",
    "\n",
    "table3.columns"
   ]
  },
  {
   "cell_type": "code",
   "execution_count": null,
   "id": "6672bcab",
   "metadata": {},
   "outputs": [],
   "source": [
    "table3.rename( columns={'DALYs (Disability-Adjusted Life Years) - All causes - Sex: Both - Age: Age-standardized (Rate)' :'Disability_adjusted_life_years',\n",
    "        }, inplace=True )\n",
    "table3.head()"
   ]
  },
  {
   "cell_type": "code",
   "execution_count": null,
   "id": "3682144f",
   "metadata": {},
   "outputs": [],
   "source": [
    "table3.to_sql('Disability_adjusted_life_years', conn, if_exists='append', index=False)\n",
    "c.execute('''SELECT * FROM Disability_adjusted_life_years  LIMIT 5''').fetchall()"
   ]
  },
  {
   "cell_type": "code",
   "execution_count": null,
   "id": "7d87fc98",
   "metadata": {},
   "outputs": [],
   "source": [
    "table4= pd.read_csv(\"Resources/disease_data/total-disease-burden-by-cause.csv\")\n",
    "\n",
    "table4.columns"
   ]
  },
  {
   "cell_type": "code",
   "execution_count": null,
   "id": "05404828",
   "metadata": {},
   "outputs": [],
   "source": [
    "table4.rename( columns={'DALYs (Disability-Adjusted Life Years) - Injuries - Sex: Both - Age: All Ages (Number)': 'Injuries',\n",
    "       'DALYs (Disability-Adjusted Life Years) - Communicable, maternal, neonatal, and nutritional diseases - Sex: Both - Age: All Ages (Number)': 'Communicable_maternal_neonatal_nutritional_diseases',\n",
    "       'DALYs (Disability-Adjusted Life Years) - Non-communicable diseases - Sex: Both - Age: All Ages (Number)': 'Non_communicable_diseases'\n",
    "        }, inplace=True )\n",
    "table4.head()"
   ]
  },
  {
   "cell_type": "code",
   "execution_count": null,
   "id": "9eb32a31",
   "metadata": {},
   "outputs": [],
   "source": [
    "c.execute( '''CREATE TABLE Total_disease_burden_by_cause \n",
    "           (Entity text,\n",
    "            Code text,\n",
    "            Year int, \n",
    "            Injuries double precision,\n",
    "            Communicable_maternal_neonatal_nutritional_diseases double precision,\n",
    "            Non_communicable_diseases double precision,\n",
    "            PRIMARY KEY (Entity, Year)) ''' )"
   ]
  },
  {
   "cell_type": "code",
   "execution_count": null,
   "id": "fdf591f0",
   "metadata": {},
   "outputs": [],
   "source": [
    "table4.to_sql('Total_disease_burden_by_cause', conn, if_exists='append', index=False)\n",
    "c.execute('''SELECT * FROM Total_disease_burden_by_cause  LIMIT 5''').fetchall()"
   ]
  },
  {
   "cell_type": "code",
   "execution_count": null,
   "id": "611e1af9",
   "metadata": {},
   "outputs": [],
   "source": [
    "table5= pd.read_csv(\"Resources/disease_data/share-of-total-disease-burden-by-cause.csv\")\n",
    "\n",
    "table5.columns"
   ]
  },
  {
   "cell_type": "code",
   "execution_count": null,
   "id": "a4018639",
   "metadata": {},
   "outputs": [],
   "source": [
    "table5.rename( columns={'Entity': 'Entity',\n",
    "    'DALYs (Disability-Adjusted Life Years) - Self-harm - Sex: Both - Age: All Ages (Percent)' : 'Self_harm',\n",
    "       'DALYs (Disability-Adjusted Life Years) - Exposure to forces of nature - Sex: Both - Age: All Ages (Percent)': 'Exposure_to_forces_of_nature',\n",
    "       'DALYs (Disability-Adjusted Life Years) - Conflict and terrorism - Sex: Both - Age: All Ages (Percent)': 'Conflict_terrorism',\n",
    "       'DALYs (Disability-Adjusted Life Years) - Interpersonal violence - Sex: Both - Age: All Ages (Percent)': 'Interpersonal_violence',\n",
    "       'DALYs (Disability-Adjusted Life Years) - Neglected tropical diseases and malaria - Sex: Both - Age: All Ages (Percent)': 'Neglected_tropical_diseases_and_malaria',\n",
    "       'DALYs (Disability-Adjusted Life Years) - Substance use disorders - Sex: Both - Age: All Ages (Percent)': 'Substance_use_disorder',\n",
    "       'DALYs (Disability-Adjusted Life Years) - Skin and subcutaneous diseases - Sex: Both - Age: All Ages (Percent)': 'Skin_and_subcutaneous_diseases',\n",
    "       'DALYs (Disability-Adjusted Life Years) - Enteric infections - Sex: Both - Age: All Ages (Percent)': 'Enteric_infections',\n",
    "       'DALYs (Disability-Adjusted Life Years) - Diabetes and kidney diseases - Sex: Both - Age: All Ages (Percent)': 'Diabetes_and_kidney_diseases',\n",
    "       'DALYs (Disability-Adjusted Life Years) - Cardiovascular diseases - Sex: Both - Age: All Ages (Percent)': 'Cardiovascular_diseases',\n",
    "       'DALYs (Disability-Adjusted Life Years) - Digestive diseases - Sex: Both - Age: All Ages (Percent)': 'Digestive_diseases',\n",
    "       'DALYs (Disability-Adjusted Life Years) - Nutritional deficiencies - Sex: Both - Age: All Ages (Percent)': 'Nutritional_deficiencies',\n",
    "       'DALYs (Disability-Adjusted Life Years) - Respiratory infections and tuberculosis - Sex: Both - Age: All Ages (Percent)': 'Respiratory_infections_and_tuberculosis',\n",
    "       'DALYs (Disability-Adjusted Life Years) - Neonatal disorders - Sex: Both - Age: All Ages (Percent)': 'Neonatal_disorders',\n",
    "       'DALYs (Disability-Adjusted Life Years) - Chronic respiratory diseases - Sex: Both - Age: All Ages (Percent)':'Chronic_respiratory_diseases',\n",
    "       'DALYs (Disability-Adjusted Life Years) - Other non-communicable diseases - Sex: Both - Age: All Ages (Percent)':'Other_non_communicable_diseases',\n",
    "       'DALYs (Disability-Adjusted Life Years) - Maternal disorders - Sex: Both - Age: All Ages (Percent)': 'Maternal_disorders',\n",
    "       'DALYs (Disability-Adjusted Life Years) - Unintentional injuries - Sex: Both - Age: All Ages (Percent)': 'Unintentional_injuries',\n",
    "       'DALYs (Disability-Adjusted Life Years) - Musculoskeletal disorders - Sex: Both - Age: All Ages (Percent)': 'Musculoskeletal_disorders',\n",
    "       'DALYs (Disability-Adjusted Life Years) - Neoplasms - Sex: Both - Age: All Ages (Percent)': 'Neoplasms',\n",
    "       'DALYs (Disability-Adjusted Life Years) - Mental disorders - Sex: Both - Age: All Ages (Percent)': 'Mental_disorders',\n",
    "       'DALYs (Disability-Adjusted Life Years) - Neurological disorders - Sex: Both - Age: All Ages (Percent)': 'Neurological_disorders',\n",
    "       'DALYs (Disability-Adjusted Life Years) - HIV/AIDS and sexually transmitted infections - Sex: Both - Age: All Ages (Percent)': 'HIV_AIDS_and_sexually_transmitted_infections',\n",
    "       'DALYs (Disability-Adjusted Life Years) - Transport injuries - Sex: Both - Age: All Ages (Percent)': 'Transport_injuries',\n",
    "       'DALYs (Disability-Adjusted Life Years) - Sense organ diseases - Sex: Both - Age: All Ages (Percent)': 'Sense_organ_diseases'\n",
    "        }, inplace=True )\n",
    "table5.head()"
   ]
  },
  {
   "cell_type": "code",
   "execution_count": null,
   "id": "26223234",
   "metadata": {},
   "outputs": [],
   "source": [
    "c.execute( '''CREATE TABLE disease_burden_by_diseases\n",
    "(Entity text,\n",
    "Code text,\n",
    "Year int,\n",
    "Self_harm double precision,\n",
    "Exposure_to_forces_of_nature double precision,\n",
    "Conflict_terrorism double precision,\n",
    "Interpersonal_violence double precision,\n",
    "Neglected_tropical_diseases_and_malaria double precision,\n",
    "Substance_use_disorder double precision,\n",
    "Skin_and_subcutaneous_diseases double precision,\n",
    "Enteric_infections double precision,\n",
    "Diabetes_and_kidney_diseases double precision,\n",
    "Cardiovascular_diseases double precision,\n",
    "Digestive_diseases double precision,\n",
    "Nutritional_deficiencies double precision,\n",
    "Respiratory_infections_and_tuberculosis double precision,\n",
    "Neonatal_disorders double precision,\n",
    "Chronic_respiratory_diseases double precision,\n",
    "Other_non_communicable_diseases double precision,\n",
    "Maternal_disorders double precision,\n",
    "Unintentional_injuries double precision,\n",
    "Musculoskeletal_disorders double precision,\n",
    "Neoplasms double precision,\n",
    "Mental_disorders double precision,\n",
    "Neurological_disorders double precision,\n",
    "HIV_AIDS_and_sexually_transmitted_infections double precision,\n",
    "Transport_injuries double precision,\n",
    "Sense_organ_diseases double precision,\n",
    "PRIMARY KEY (Entity, Year))''')"
   ]
  },
  {
   "cell_type": "code",
   "execution_count": null,
   "id": "76b3cb63",
   "metadata": {},
   "outputs": [],
   "source": [
    "table5.to_sql('disease_burden_by_diseases', conn, if_exists='append', index=False)\n",
    "c.execute('''SELECT * FROM disease_burden_by_diseases  LIMIT 5''').fetchall()"
   ]
  },
  {
   "cell_type": "code",
   "execution_count": null,
   "id": "2533eb5f",
   "metadata": {},
   "outputs": [],
   "source": [
    "\n",
    "c.execute(\"SELECT name FROM sqlite_master WHERE type='table';\")\n",
    "print(c.fetchall())"
   ]
  },
  {
   "cell_type": "markdown",
   "id": "b59e81c0",
   "metadata": {},
   "source": [
    "### Creating Script for non-relational database"
   ]
  },
  {
   "cell_type": "code",
   "execution_count": null,
   "id": "63ac0e7d",
   "metadata": {},
   "outputs": [],
   "source": [
    "text1 = \"\"\n",
    "\n",
    "for i in table1.columns:\n",
    "    text1 += f\"\"\"\"{i}\" : row.{i},\"\"\"\n",
    "\n",
    "text1"
   ]
  },
  {
   "cell_type": "code",
   "execution_count": null,
   "id": "c302350b",
   "metadata": {},
   "outputs": [],
   "source": [
    "text2 = \"\"\n",
    "\n",
    "for i in table2.columns:\n",
    "    text2 += f\"\"\"\"{i}\" : row.{i},\"\"\"\n",
    "\n",
    "text2"
   ]
  },
  {
   "cell_type": "code",
   "execution_count": null,
   "id": "7625a122",
   "metadata": {},
   "outputs": [],
   "source": [
    "text3 = \"\"\n",
    "\n",
    "for i in table3.columns:\n",
    "    text3 += f\"\"\"\"{i}\" : row.{i},\"\"\"\n",
    "\n",
    "text3"
   ]
  },
  {
   "cell_type": "code",
   "execution_count": null,
   "id": "4c8fe0e2",
   "metadata": {},
   "outputs": [],
   "source": [
    "text4 = \"\"\n",
    "\n",
    "for i in table4.columns:\n",
    "    text4 += f\"\"\"\"{i}\" : row.{i},\"\"\"\n",
    "\n",
    "text4"
   ]
  },
  {
   "cell_type": "code",
   "execution_count": null,
   "id": "ceddb8a2",
   "metadata": {},
   "outputs": [],
   "source": [
    "text5 = \"\"\n",
    "\n",
    "for i in table5.columns:\n",
    "    text5 += f\"\"\"\"{i}\" : row.{i},\"\"\"\n",
    "\n",
    "text5"
   ]
  }
 ],
 "metadata": {
  "kernelspec": {
   "display_name": "Python 3 (ipykernel)",
   "language": "python",
   "name": "python3"
  },
  "language_info": {
   "codemirror_mode": {
    "name": "ipython",
    "version": 3
   },
   "file_extension": ".py",
   "mimetype": "text/x-python",
   "name": "python",
   "nbconvert_exporter": "python",
   "pygments_lexer": "ipython3",
   "version": "3.9.12"
  }
 },
 "nbformat": 4,
 "nbformat_minor": 5
}
